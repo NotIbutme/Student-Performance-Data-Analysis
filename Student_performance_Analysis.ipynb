{
 "cells": [
  {
   "cell_type": "code",
   "execution_count": null,
   "id": "3929b4a6",
   "metadata": {},
   "outputs": [
    {
     "name": "stdout",
     "output_type": "stream",
     "text": [
      "✅ student_marks.csv is created successfully.\n"
     ]
    }
   ],
   "source": [
    "import pandas as pd\n",
    "Info = {\n",
    "    \"Id\": [1001, 1002, 1003, 1004, 1005, 1006],\n",
    "    \"F Name\": [\"Ayushi\", \"Shlok\", \"Riya\", \"Kara\", \"Akansha\", \"Aditya\"],\n",
    "    \"L Name\": [\"Das\", \"Bhos\", \"Dubey\", \"Singh\", \"Raut\", \"Patil\"],\n",
    "    \"Gender\": [\"Female\", \"Male\", \"Female\", \"Female\", \"Female\", \"Male\"],\n",
    "    \"Age\": [15, 16, 15, 14, 16, 14],\n",
    "    \"Marks\": [50, 46, 40, 49, 39, 47],\n",
    "    \"Grade\": [\"A+\", \"A+\", \"B+\", \"A+\", \"B+\", \"A+\"]\n",
    "}\n",
    "\n",
    "df = pd.DataFrame(Info)\n",
    "\n",
    "df.to_csv(\"student_marks.csv\", index=False)\n",
    "\n",
    "print(\"✅ student_marks.csv is created successfully.\")\n"
   ]
  },
  {
   "cell_type": "code",
   "execution_count": 7,
   "id": "957f1efc",
   "metadata": {},
   "outputs": [
    {
     "data": {
      "text/html": [
       "<div>\n",
       "<style scoped>\n",
       "    .dataframe tbody tr th:only-of-type {\n",
       "        vertical-align: middle;\n",
       "    }\n",
       "\n",
       "    .dataframe tbody tr th {\n",
       "        vertical-align: top;\n",
       "    }\n",
       "\n",
       "    .dataframe thead th {\n",
       "        text-align: right;\n",
       "    }\n",
       "</style>\n",
       "<table border=\"1\" class=\"dataframe\">\n",
       "  <thead>\n",
       "    <tr style=\"text-align: right;\">\n",
       "      <th></th>\n",
       "      <th>Id</th>\n",
       "      <th>F Name</th>\n",
       "      <th>L Name</th>\n",
       "      <th>Gender</th>\n",
       "      <th>Age</th>\n",
       "      <th>Marks</th>\n",
       "      <th>Grade</th>\n",
       "    </tr>\n",
       "  </thead>\n",
       "  <tbody>\n",
       "    <tr>\n",
       "      <th>0</th>\n",
       "      <td>1001</td>\n",
       "      <td>Ayushi</td>\n",
       "      <td>Das</td>\n",
       "      <td>Female</td>\n",
       "      <td>15</td>\n",
       "      <td>50</td>\n",
       "      <td>A+</td>\n",
       "    </tr>\n",
       "    <tr>\n",
       "      <th>1</th>\n",
       "      <td>1002</td>\n",
       "      <td>Shlok</td>\n",
       "      <td>Bhos</td>\n",
       "      <td>Male</td>\n",
       "      <td>16</td>\n",
       "      <td>45</td>\n",
       "      <td>A</td>\n",
       "    </tr>\n",
       "    <tr>\n",
       "      <th>2</th>\n",
       "      <td>1003</td>\n",
       "      <td>Riya</td>\n",
       "      <td>Dubey</td>\n",
       "      <td>Female</td>\n",
       "      <td>15</td>\n",
       "      <td>40</td>\n",
       "      <td>B+</td>\n",
       "    </tr>\n",
       "    <tr>\n",
       "      <th>3</th>\n",
       "      <td>1004</td>\n",
       "      <td>Kara</td>\n",
       "      <td>Singh</td>\n",
       "      <td>Female</td>\n",
       "      <td>14</td>\n",
       "      <td>49</td>\n",
       "      <td>A+</td>\n",
       "    </tr>\n",
       "    <tr>\n",
       "      <th>4</th>\n",
       "      <td>1005</td>\n",
       "      <td>Akansha</td>\n",
       "      <td>Raut</td>\n",
       "      <td>Female</td>\n",
       "      <td>16</td>\n",
       "      <td>39</td>\n",
       "      <td>B+</td>\n",
       "    </tr>\n",
       "  </tbody>\n",
       "</table>\n",
       "</div>"
      ],
      "text/plain": [
       "     Id   F Name L Name  Gender  Age  Marks Grade\n",
       "0  1001   Ayushi    Das  Female   15     50    A+\n",
       "1  1002    Shlok   Bhos    Male   16     45     A\n",
       "2  1003     Riya  Dubey  Female   15     40    B+\n",
       "3  1004     Kara  Singh  Female   14     49    A+\n",
       "4  1005  Akansha   Raut  Female   16     39    B+"
      ]
     },
     "execution_count": 7,
     "metadata": {},
     "output_type": "execute_result"
    }
   ],
   "source": [
    "import pandas as pd\n",
    "df = pd.read_csv(\"student_marks.csv\")\n",
    "df.head()"
   ]
  },
  {
   "cell_type": "code",
   "execution_count": 3,
   "id": "fae11cb9",
   "metadata": {},
   "outputs": [
    {
     "name": "stdout",
     "output_type": "stream",
     "text": [
      "<class 'pandas.core.frame.DataFrame'>\n",
      "RangeIndex: 6 entries, 0 to 5\n",
      "Data columns (total 7 columns):\n",
      " #   Column  Non-Null Count  Dtype \n",
      "---  ------  --------------  ----- \n",
      " 0   Id      6 non-null      int64 \n",
      " 1   F Name  6 non-null      object\n",
      " 2   L Name  6 non-null      object\n",
      " 3   Gender  6 non-null      object\n",
      " 4   Age     6 non-null      int64 \n",
      " 5   Marks   6 non-null      int64 \n",
      " 6   Grade   6 non-null      object\n",
      "dtypes: int64(3), object(4)\n",
      "memory usage: 468.0+ bytes\n"
     ]
    },
    {
     "data": {
      "text/html": [
       "<div>\n",
       "<style scoped>\n",
       "    .dataframe tbody tr th:only-of-type {\n",
       "        vertical-align: middle;\n",
       "    }\n",
       "\n",
       "    .dataframe tbody tr th {\n",
       "        vertical-align: top;\n",
       "    }\n",
       "\n",
       "    .dataframe thead th {\n",
       "        text-align: right;\n",
       "    }\n",
       "</style>\n",
       "<table border=\"1\" class=\"dataframe\">\n",
       "  <thead>\n",
       "    <tr style=\"text-align: right;\">\n",
       "      <th></th>\n",
       "      <th>Id</th>\n",
       "      <th>Age</th>\n",
       "      <th>Marks</th>\n",
       "    </tr>\n",
       "  </thead>\n",
       "  <tbody>\n",
       "    <tr>\n",
       "      <th>count</th>\n",
       "      <td>6.000000</td>\n",
       "      <td>6.000000</td>\n",
       "      <td>6.000000</td>\n",
       "    </tr>\n",
       "    <tr>\n",
       "      <th>mean</th>\n",
       "      <td>1003.500000</td>\n",
       "      <td>15.000000</td>\n",
       "      <td>47.333333</td>\n",
       "    </tr>\n",
       "    <tr>\n",
       "      <th>std</th>\n",
       "      <td>1.870829</td>\n",
       "      <td>0.894427</td>\n",
       "      <td>2.065591</td>\n",
       "    </tr>\n",
       "    <tr>\n",
       "      <th>min</th>\n",
       "      <td>1001.000000</td>\n",
       "      <td>14.000000</td>\n",
       "      <td>45.000000</td>\n",
       "    </tr>\n",
       "    <tr>\n",
       "      <th>25%</th>\n",
       "      <td>1002.250000</td>\n",
       "      <td>14.250000</td>\n",
       "      <td>45.500000</td>\n",
       "    </tr>\n",
       "    <tr>\n",
       "      <th>50%</th>\n",
       "      <td>1003.500000</td>\n",
       "      <td>15.000000</td>\n",
       "      <td>47.500000</td>\n",
       "    </tr>\n",
       "    <tr>\n",
       "      <th>75%</th>\n",
       "      <td>1004.750000</td>\n",
       "      <td>15.750000</td>\n",
       "      <td>48.750000</td>\n",
       "    </tr>\n",
       "    <tr>\n",
       "      <th>max</th>\n",
       "      <td>1006.000000</td>\n",
       "      <td>16.000000</td>\n",
       "      <td>50.000000</td>\n",
       "    </tr>\n",
       "  </tbody>\n",
       "</table>\n",
       "</div>"
      ],
      "text/plain": [
       "                Id        Age      Marks\n",
       "count     6.000000   6.000000   6.000000\n",
       "mean   1003.500000  15.000000  47.333333\n",
       "std       1.870829   0.894427   2.065591\n",
       "min    1001.000000  14.000000  45.000000\n",
       "25%    1002.250000  14.250000  45.500000\n",
       "50%    1003.500000  15.000000  47.500000\n",
       "75%    1004.750000  15.750000  48.750000\n",
       "max    1006.000000  16.000000  50.000000"
      ]
     },
     "execution_count": 3,
     "metadata": {},
     "output_type": "execute_result"
    }
   ],
   "source": [
    "df.info()\n",
    "df.describe()"
   ]
  },
  {
   "cell_type": "code",
   "execution_count": 4,
   "id": "7a595bdc",
   "metadata": {},
   "outputs": [
    {
     "data": {
      "image/png": "[encoded data removed]",
      "text/plain": [
       "<Figure size 640x480 with 1 Axes>"
      ]
     },
     "metadata": {},
     "output_type": "display_data"
    },
    {
     "data": {
      "image/png": "[encoded data removed]",
      "text/plain": [
       "<Figure size 640x480 with 1 Axes>"
      ]
     },
     "metadata": {},
     "output_type": "display_data"
    },
    {
     "data": {
      "image/png": "[encoded data removed]",
      "text/plain": [
       "<Figure size 640x480 with 1 Axes>"
      ]
     },
     "metadata": {},
     "output_type": "display_data"
    }
   ],
   "source": [
    "import matplotlib.pyplot as plt\n",
    "import seaborn as sns\n",
    "\n",
    "# Distribution of Marks\n",
    "sns.histplot(df[\"Marks\"], bins=5, kde=True)\n",
    "plt.show()\n",
    "\n",
    "# Gender vs Marks\n",
    "sns.boxplot(x=\"Gender\", y=\"Marks\", data=df)\n",
    "plt.show()\n",
    "\n",
    "# Grade Count\n",
    "sns.countplot(x=\"Grade\", data=df)\n",
    "plt.show()"
   ]
  },
  {
   "cell_type": "code",
   "execution_count": 5,
   "id": "d56c48ac",
   "metadata": {},
   "outputs": [],
   "source": [
    "df[\"Pass\"] = df[\"Marks\"].apply(lambda x: 1 if x >= 40 else 0)"
   ]
  }
 ],
 "metadata": {
  "kernelspec": {
   "display_name": "venv",
   "language": "python",
   "name": "python3"
  },
  "language_info": {
   "codemirror_mode": {
    "name": "ipython",
    "version": 3
   },
   "file_extension": ".py",
   "mimetype": "text/x-python",
   "name": "python",
   "nbconvert_exporter": "python",
   "pygments_lexer": "ipython3",
   "version": "3.13.7"
  }
 },
 "nbformat": 4,
 "nbformat_minor": 5
}
